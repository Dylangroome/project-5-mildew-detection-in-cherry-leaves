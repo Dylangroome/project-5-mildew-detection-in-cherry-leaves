{
 "cells": [
  {
   "cell_type": "markdown",
   "metadata": {
    "id": "0aStgWSO0E0E"
   },
   "source": [
    "# Modelling and Evaluation Notebook"
   ]
  },
  {
   "cell_type": "markdown",
   "metadata": {
    "id": "1eLEkw5O0ECa"
   },
   "source": [
    "## Objectives\n",
    "\n",
    "*   Answer business requirement 2: \n",
    "    * The client is interested to tell whether a given cell contains a malaria parasite or not.\n",
    "\n",
    "\n",
    "## Inputs\n",
    "\n",
    "* inputs/malaria_dataset/cell_images/train\n",
    "* inputs/malaria_dataset/cell_images/test\n",
    "* inputs/malaria_dataset/cell_images/validation\n",
    "* image shape embeddings.\n",
    "\n",
    "## Outputs\n",
    "* Images distribution plot in train, validation, and test set.\n",
    "* Image augmentation.\n",
    "* Class indices to change prediction inference in labels.\n",
    "* Machine learning model creation and training.\n",
    "* Save model.\n",
    "* Learning curve plot for model performance.\n",
    "* Model evaluation on pickle file.\n",
    "* Prediction on the random image file.\n",
    "\n",
    "\n",
    "\n",
    "\n",
    "## Additional Comments | Insights | Conclusions\n",
    "\n",
    "\n"
   ]
  },
  {
   "cell_type": "markdown",
   "metadata": {
    "id": "9uWZXH9LwoQg"
   },
   "source": [
    "---"
   ]
  },
  {
   "cell_type": "markdown",
   "metadata": {
    "id": "qRwFQLlmwrl9"
   },
   "source": [
    "---"
   ]
  },
  {
   "cell_type": "markdown",
   "metadata": {
    "id": "t2oPUd1K_qCr"
   },
   "source": [
    "# Import regular packages"
   ]
  },
  {
   "cell_type": "code",
   "execution_count": 1,
   "metadata": {
    "id": "oqqga261_w4N"
   },
   "outputs": [],
   "source": [
    "import os\n",
    "import pandas as pd\n",
    "import numpy as np\n",
    "import matplotlib.pyplot as plt\n",
    "import seaborn as sns\n",
    "from matplotlib.image import imread"
   ]
  },
  {
   "cell_type": "markdown",
   "metadata": {
    "id": "qRwFQLlmwrl9"
   },
   "source": [
    "---"
   ]
  },
  {
   "cell_type": "markdown",
   "metadata": {
    "id": "t2oPUd1K_qCr"
   },
   "source": [
    "# Set Working Directory"
   ]
  },
  {
   "cell_type": "code",
   "execution_count": 2,
   "metadata": {
    "id": "8SooBUDWVIQK"
   },
   "outputs": [],
   "source": [
    "cwd= os.getcwd()"
   ]
  },
  {
   "cell_type": "code",
   "execution_count": 3,
   "metadata": {
    "id": "EQ7j8jHhmYDD",
    "tags": []
   },
   "outputs": [
    {
     "output_type": "error",
     "ename": "FileNotFoundError",
     "evalue": "[Errno 2] No such file or directory: '/workspaces/WalkthroughProject01'",
     "traceback": [
      "\u001b[0;31m---------------------------------------------------------------------------\u001b[0m",
      "\u001b[0;31mFileNotFoundError\u001b[0m                         Traceback (most recent call last)",
      "Cell \u001b[0;32mIn[3], line 1\u001b[0m\n\u001b[0;32m----> 1\u001b[0m \u001b[43mos\u001b[49m\u001b[38;5;241;43m.\u001b[39;49m\u001b[43mchdir\u001b[49m\u001b[43m(\u001b[49m\u001b[38;5;124;43m'\u001b[39;49m\u001b[38;5;124;43m/workspaces/WalkthroughProject01\u001b[39;49m\u001b[38;5;124;43m'\u001b[39;49m\u001b[43m)\u001b[49m\n\u001b[1;32m      2\u001b[0m \u001b[38;5;28mprint\u001b[39m(\u001b[38;5;124m\"\u001b[39m\u001b[38;5;124mYou set a new current directory\u001b[39m\u001b[38;5;124m\"\u001b[39m)\n",
      "\u001b[0;31mFileNotFoundError\u001b[0m: [Errno 2] No such file or directory: '/workspaces/WalkthroughProject01'"
     ]
    }
   ],
   "source": [
    "os.chdir('/workspaces/WalkthroughProject01')\n",
    "print(\"You set a new current directory\")"
   ]
  },
  {
   "cell_type": "code",
   "execution_count": 4,
   "metadata": {
    "id": "b107Zs3TmYDD"
   },
   "outputs": [
    {
     "output_type": "execute_result",
     "data": {
      "text/plain": "'/workspaces/project-5-mildew-detection-in-cherry-leaves/jupyter_notebooks'"
     },
     "metadata": {},
     "execution_count": 4
    }
   ],
   "source": [
    "\n",
    "work_dir = os.getcwd()\n",
    "work_dir"
   ]
  },
  {
   "cell_type": "markdown",
   "metadata": {
    "id": "qRwFQLlmwrl9"
   },
   "source": [
    "---"
   ]
  },
  {
   "cell_type": "markdown",
   "metadata": {
    "id": "czVrQtLccTJb"
   },
   "source": [
    "## Set input directories"
   ]
  },
  {
   "cell_type": "markdown",
   "metadata": {
    "id": "sx2ZqnpDcY2H"
   },
   "source": [
    "Set train, validation and test paths"
   ]
  },
  {
   "cell_type": "code",
   "execution_count": 5,
   "metadata": {
    "id": "5eucaA9M6qz1"
   },
   "outputs": [],
   "source": [
    "my_data_dir = 'inputs/malaria_dataset/cell_images'\n",
    "train_path = my_data_dir + '/train'\n",
    "val_path = my_data_dir + '/validation'\n",
    "test_path = my_data_dir + '/test'"
   ]
  },
  {
   "cell_type": "markdown",
   "metadata": {
    "id": "czVrQtLccTJb"
   },
   "source": [
    "## Set output directory"
   ]
  },
  {
   "cell_type": "code",
   "execution_count": 6,
   "metadata": {
    "tags": []
   },
   "outputs": [],
   "source": [
    "version = 'v1'\n",
    "file_path = f'outputs/{version}'\n",
    "\n",
    "if 'outputs' in os.listdir(work_dir) and version in os.listdir(work_dir + '/outputs'):\n",
    "    print('Old version is already available create a new version.')\n",
    "    pass\n",
    "else:\n",
    "    os.makedirs(name=file_path)\n"
   ]
  },
  {
   "cell_type": "markdown",
   "metadata": {
    "id": "czVrQtLccTJb"
   },
   "source": [
    "## Set labels"
   ]
  },
  {
   "cell_type": "code",
   "execution_count": 7,
   "metadata": {
    "id": "ntzIpcxb3oIE",
    "tags": []
   },
   "outputs": [
    {
     "output_type": "error",
     "ename": "FileNotFoundError",
     "evalue": "[Errno 2] No such file or directory: 'inputs/malaria_dataset/cell_images/train'",
     "traceback": [
      "\u001b[0;31m---------------------------------------------------------------------------\u001b[0m",
      "\u001b[0;31mFileNotFoundError\u001b[0m                         Traceback (most recent call last)",
      "Cell \u001b[0;32mIn[7], line 1\u001b[0m\n\u001b[0;32m----> 1\u001b[0m labels \u001b[38;5;241m=\u001b[39m \u001b[43mos\u001b[49m\u001b[38;5;241;43m.\u001b[39;49m\u001b[43mlistdir\u001b[49m\u001b[43m(\u001b[49m\u001b[43mtrain_path\u001b[49m\u001b[43m)\u001b[49m\n\u001b[1;32m      3\u001b[0m \u001b[38;5;28mprint\u001b[39m(\n\u001b[1;32m      4\u001b[0m     \u001b[38;5;124mf\u001b[39m\u001b[38;5;124m\"\u001b[39m\u001b[38;5;124mProject Labels: \u001b[39m\u001b[38;5;132;01m{\u001b[39;00mlabels\u001b[38;5;132;01m}\u001b[39;00m\u001b[38;5;124m\"\u001b[39m\n\u001b[1;32m      5\u001b[0m )\n",
      "\u001b[0;31mFileNotFoundError\u001b[0m: [Errno 2] No such file or directory: 'inputs/malaria_dataset/cell_images/train'"
     ]
    }
   ],
   "source": [
    "\n",
    "labels = os.listdir(train_path)\n",
    "\n",
    "print(\n",
    "    f\"Project Labels: {labels}\"\n",
    ")\n"
   ]
  },
  {
   "cell_type": "markdown",
   "metadata": {},
   "source": [
    "## Set image shape"
   ]
  },
  {
   "cell_type": "code",
   "execution_count": 8,
   "metadata": {},
   "outputs": [
    {
     "output_type": "error",
     "ename": "FileNotFoundError",
     "evalue": "[Errno 2] No such file or directory: 'outputs/v1/image_shape.pkl'",
     "traceback": [
      "\u001b[0;31m---------------------------------------------------------------------------\u001b[0m",
      "\u001b[0;31mFileNotFoundError\u001b[0m                         Traceback (most recent call last)",
      "Cell \u001b[0;32mIn[8], line 4\u001b[0m\n\u001b[1;32m      2\u001b[0m \u001b[38;5;28;01mimport\u001b[39;00m \u001b[38;5;21;01mjoblib\u001b[39;00m\n\u001b[1;32m      3\u001b[0m version \u001b[38;5;241m=\u001b[39m \u001b[38;5;124m'\u001b[39m\u001b[38;5;124mv1\u001b[39m\u001b[38;5;124m'\u001b[39m\n\u001b[0;32m----> 4\u001b[0m image_shape \u001b[38;5;241m=\u001b[39m \u001b[43mjoblib\u001b[49m\u001b[38;5;241;43m.\u001b[39;49m\u001b[43mload\u001b[49m\u001b[43m(\u001b[49m\u001b[43mfilename\u001b[49m\u001b[38;5;241;43m=\u001b[39;49m\u001b[38;5;124;43mf\u001b[39;49m\u001b[38;5;124;43m\"\u001b[39;49m\u001b[38;5;124;43moutputs/\u001b[39;49m\u001b[38;5;132;43;01m{\u001b[39;49;00m\u001b[43mversion\u001b[49m\u001b[38;5;132;43;01m}\u001b[39;49;00m\u001b[38;5;124;43m/image_shape.pkl\u001b[39;49m\u001b[38;5;124;43m\"\u001b[39;49m\u001b[43m)\u001b[49m\n\u001b[1;32m      5\u001b[0m image_shape\n",
      "File \u001b[0;32m~/.local/lib/python3.8/site-packages/joblib/numpy_pickle.py:650\u001b[0m, in \u001b[0;36mload\u001b[0;34m(filename, mmap_mode)\u001b[0m\n\u001b[1;32m    648\u001b[0m         obj \u001b[38;5;241m=\u001b[39m _unpickle(fobj)\n\u001b[1;32m    649\u001b[0m \u001b[38;5;28;01melse\u001b[39;00m:\n\u001b[0;32m--> 650\u001b[0m     \u001b[38;5;28;01mwith\u001b[39;00m \u001b[38;5;28;43mopen\u001b[39;49m\u001b[43m(\u001b[49m\u001b[43mfilename\u001b[49m\u001b[43m,\u001b[49m\u001b[43m \u001b[49m\u001b[38;5;124;43m'\u001b[39;49m\u001b[38;5;124;43mrb\u001b[39;49m\u001b[38;5;124;43m'\u001b[39;49m\u001b[43m)\u001b[49m \u001b[38;5;28;01mas\u001b[39;00m f:\n\u001b[1;32m    651\u001b[0m         \u001b[38;5;28;01mwith\u001b[39;00m _read_fileobject(f, filename, mmap_mode) \u001b[38;5;28;01mas\u001b[39;00m fobj:\n\u001b[1;32m    652\u001b[0m             \u001b[38;5;28;01mif\u001b[39;00m \u001b[38;5;28misinstance\u001b[39m(fobj, \u001b[38;5;28mstr\u001b[39m):\n\u001b[1;32m    653\u001b[0m                 \u001b[38;5;66;03m# if the returned file object is a string, this means we\u001b[39;00m\n\u001b[1;32m    654\u001b[0m                 \u001b[38;5;66;03m# try to load a pickle file generated with an version of\u001b[39;00m\n\u001b[1;32m    655\u001b[0m                 \u001b[38;5;66;03m# Joblib so we load it with joblib compatibility function.\u001b[39;00m\n",
      "\u001b[0;31mFileNotFoundError\u001b[0m: [Errno 2] No such file or directory: 'outputs/v1/image_shape.pkl'"
     ]
    }
   ],
   "source": [
    "## Import saved image shape embedding\n",
    "import joblib\n",
    "version = 'v1'\n",
    "image_shape = joblib.load(filename=f\"outputs/{version}/image_shape.pkl\")\n",
    "image_shape"
   ]
  },
  {
   "cell_type": "markdown",
   "metadata": {
    "id": "oSTKDM0XvuVu"
   },
   "source": [
    "---"
   ]
  },
  {
   "cell_type": "markdown",
   "metadata": {
    "id": "qQ0p1nYJ_3sx"
   },
   "source": [
    "# Number of images in train, test and validation data"
   ]
  },
  {
   "cell_type": "code",
   "execution_count": 9,
   "metadata": {
    "id": "TeOv0tCn3_Y_",
    "tags": []
   },
   "outputs": [
    {
     "output_type": "error",
     "ename": "NameError",
     "evalue": "name 'labels' is not defined",
     "traceback": [
      "\u001b[0;31m---------------------------------------------------------------------------\u001b[0m",
      "\u001b[0;31mNameError\u001b[0m                                 Traceback (most recent call last)",
      "Cell \u001b[0;32mIn[9], line 3\u001b[0m\n\u001b[1;32m      1\u001b[0m df_freq \u001b[38;5;241m=\u001b[39m pd\u001b[38;5;241m.\u001b[39mDataFrame([])\n\u001b[1;32m      2\u001b[0m \u001b[38;5;28;01mfor\u001b[39;00m folder \u001b[38;5;129;01min\u001b[39;00m [\u001b[38;5;124m'\u001b[39m\u001b[38;5;124mtrain\u001b[39m\u001b[38;5;124m'\u001b[39m, \u001b[38;5;124m'\u001b[39m\u001b[38;5;124mvalidation\u001b[39m\u001b[38;5;124m'\u001b[39m, \u001b[38;5;124m'\u001b[39m\u001b[38;5;124mtest\u001b[39m\u001b[38;5;124m'\u001b[39m]:\n\u001b[0;32m----> 3\u001b[0m     \u001b[38;5;28;01mfor\u001b[39;00m label \u001b[38;5;129;01min\u001b[39;00m \u001b[43mlabels\u001b[49m:\n\u001b[1;32m      4\u001b[0m         df_freq \u001b[38;5;241m=\u001b[39m df_freq\u001b[38;5;241m.\u001b[39mappend(\n\u001b[1;32m      5\u001b[0m             pd\u001b[38;5;241m.\u001b[39mSeries(data\u001b[38;5;241m=\u001b[39m{\u001b[38;5;124m'\u001b[39m\u001b[38;5;124mSet\u001b[39m\u001b[38;5;124m'\u001b[39m: folder,\n\u001b[1;32m      6\u001b[0m                             \u001b[38;5;124m'\u001b[39m\u001b[38;5;124mLabel\u001b[39m\u001b[38;5;124m'\u001b[39m: label,\n\u001b[0;32m   (...)\u001b[0m\n\u001b[1;32m      9\u001b[0m             ignore_index\u001b[38;5;241m=\u001b[39m\u001b[38;5;28;01mTrue\u001b[39;00m\n\u001b[1;32m     10\u001b[0m         )\n\u001b[1;32m     12\u001b[0m         \u001b[38;5;28mprint\u001b[39m(\n\u001b[1;32m     13\u001b[0m             \u001b[38;5;124mf\u001b[39m\u001b[38;5;124m\"\u001b[39m\u001b[38;5;124m* \u001b[39m\u001b[38;5;132;01m{\u001b[39;00mfolder\u001b[38;5;132;01m}\u001b[39;00m\u001b[38;5;124m - \u001b[39m\u001b[38;5;132;01m{\u001b[39;00mlabel\u001b[38;5;132;01m}\u001b[39;00m\u001b[38;5;124m: \u001b[39m\u001b[38;5;132;01m{\u001b[39;00m\u001b[38;5;28mlen\u001b[39m(os\u001b[38;5;241m.\u001b[39mlistdir(my_data_dir\u001b[38;5;241m+\u001b[39m\u001b[38;5;124m'\u001b[39m\u001b[38;5;124m/\u001b[39m\u001b[38;5;124m'\u001b[39m\u001b[38;5;241m+\u001b[39m\u001b[38;5;250m \u001b[39mfolder\u001b[38;5;250m \u001b[39m\u001b[38;5;241m+\u001b[39m\u001b[38;5;250m \u001b[39m\u001b[38;5;124m'\u001b[39m\u001b[38;5;124m/\u001b[39m\u001b[38;5;124m'\u001b[39m\u001b[38;5;250m \u001b[39m\u001b[38;5;241m+\u001b[39m\u001b[38;5;250m \u001b[39mlabel))\u001b[38;5;132;01m}\u001b[39;00m\u001b[38;5;124m images\u001b[39m\u001b[38;5;124m\"\u001b[39m)\n",
      "\u001b[0;31mNameError\u001b[0m: name 'labels' is not defined"
     ]
    }
   ],
   "source": [
    "df_freq = pd.DataFrame([])\n",
    "for folder in ['train', 'validation', 'test']:\n",
    "    for label in labels:\n",
    "        df_freq = df_freq.append(\n",
    "            pd.Series(data={'Set': folder,\n",
    "                            'Label': label,\n",
    "                            'Frequency': int(len(os.listdir(my_data_dir + '/' + folder + '/' + label)))}\n",
    "                      ),\n",
    "            ignore_index=True\n",
    "        )\n",
    "\n",
    "        print(\n",
    "            f\"* {folder} - {label}: {len(os.listdir(my_data_dir+'/'+ folder + '/' + label))} images\")\n",
    "\n",
    "print(\"\\n\")\n",
    "sns.set_style(\"whitegrid\")\n",
    "plt.figure(figsize=(8, 5))\n",
    "sns.barplot(data=df_freq, x='Set', y='Frequency', hue='Label')\n",
    "plt.savefig(f'{file_path}/labels_distribution.png',\n",
    "            bbox_inches='tight', dpi=150)\n",
    "plt.show()\n"
   ]
  },
  {
   "cell_type": "markdown",
   "metadata": {
    "id": "Zp4l-B11vCiP"
   },
   "source": [
    "---"
   ]
  },
  {
   "cell_type": "markdown",
   "metadata": {
    "id": "qved3ALYLrng"
   },
   "source": [
    "# Image data augmentation"
   ]
  },
  {
   "cell_type": "markdown",
   "metadata": {
    "id": "qRwFQLlmwrl9"
   },
   "source": [
    "---"
   ]
  },
  {
   "cell_type": "markdown",
   "metadata": {},
   "source": [
    "### ImageDataGenerator"
   ]
  },
  {
   "cell_type": "code",
   "execution_count": 10,
   "metadata": {
    "id": "BMU8_F6ZAfjS"
   },
   "outputs": [],
   "source": [
    "from tensorflow.keras.preprocessing.image import ImageDataGenerator"
   ]
  },
  {
   "cell_type": "markdown",
   "metadata": {},
   "source": [
    "* ### Initialize ImageDataGenerator"
   ]
  },
  {
   "cell_type": "code",
   "execution_count": 11,
   "metadata": {
    "id": "nIkD9esZAhTm"
   },
   "outputs": [],
   "source": [
    "augmented_image_data = ImageDataGenerator(rotation_range=20,\n",
    "                                          width_shift_range=0.10,\n",
    "                                          height_shift_range=0.10,\n",
    "                                          shear_range=0.1,\n",
    "                                          zoom_range=0.1,\n",
    "                                          horizontal_flip=True,\n",
    "                                          vertical_flip=True,\n",
    "                                          fill_mode='nearest',\n",
    "                                          rescale=1./255\n",
    "                                          )\n"
   ]
  },
  {
   "cell_type": "markdown",
   "metadata": {},
   "source": [
    "* ### Augment training image dataset"
   ]
  },
  {
   "cell_type": "code",
   "execution_count": 12,
   "metadata": {
    "id": "08qYmeq3FE-e",
    "tags": []
   },
   "outputs": [
    {
     "output_type": "error",
     "ename": "NameError",
     "evalue": "name 'image_shape' is not defined",
     "traceback": [
      "\u001b[0;31m---------------------------------------------------------------------------\u001b[0m",
      "\u001b[0;31mNameError\u001b[0m                                 Traceback (most recent call last)",
      "Cell \u001b[0;32mIn[12], line 3\u001b[0m\n\u001b[1;32m      1\u001b[0m batch_size \u001b[38;5;241m=\u001b[39m \u001b[38;5;241m20\u001b[39m  \u001b[38;5;66;03m# Set batch size\u001b[39;00m\n\u001b[1;32m      2\u001b[0m train_set \u001b[38;5;241m=\u001b[39m augmented_image_data\u001b[38;5;241m.\u001b[39mflow_from_directory(train_path,\n\u001b[0;32m----> 3\u001b[0m                                                      target_size\u001b[38;5;241m=\u001b[39m\u001b[43mimage_shape\u001b[49m[:\u001b[38;5;241m2\u001b[39m],\n\u001b[1;32m      4\u001b[0m                                                      color_mode\u001b[38;5;241m=\u001b[39m\u001b[38;5;124m'\u001b[39m\u001b[38;5;124mrgb\u001b[39m\u001b[38;5;124m'\u001b[39m,\n\u001b[1;32m      5\u001b[0m                                                      batch_size\u001b[38;5;241m=\u001b[39mbatch_size,\n\u001b[1;32m      6\u001b[0m                                                      class_mode\u001b[38;5;241m=\u001b[39m\u001b[38;5;124m'\u001b[39m\u001b[38;5;124mbinary\u001b[39m\u001b[38;5;124m'\u001b[39m,\n\u001b[1;32m      7\u001b[0m                                                      shuffle\u001b[38;5;241m=\u001b[39m\u001b[38;5;28;01mTrue\u001b[39;00m\n\u001b[1;32m      8\u001b[0m                                                      )\n\u001b[1;32m     10\u001b[0m train_set\u001b[38;5;241m.\u001b[39mclass_indices\n",
      "\u001b[0;31mNameError\u001b[0m: name 'image_shape' is not defined"
     ]
    }
   ],
   "source": [
    "batch_size = 20  # Set batch size\n",
    "train_set = augmented_image_data.flow_from_directory(train_path,\n",
    "                                                     target_size=image_shape[:2],\n",
    "                                                     color_mode='rgb',\n",
    "                                                     batch_size=batch_size,\n",
    "                                                     class_mode='binary',\n",
    "                                                     shuffle=True\n",
    "                                                     )\n",
    "\n",
    "train_set.class_indices\n"
   ]
  },
  {
   "cell_type": "markdown",
   "metadata": {
    "id": "3cAwum1tWsmz"
   },
   "source": [
    "* ### Augment validation image dataset"
   ]
  },
  {
   "cell_type": "code",
   "execution_count": 13,
   "metadata": {
    "id": "pi6LZ9oJMPHB",
    "tags": []
   },
   "outputs": [
    {
     "output_type": "error",
     "ename": "NameError",
     "evalue": "name 'image_shape' is not defined",
     "traceback": [
      "\u001b[0;31m---------------------------------------------------------------------------\u001b[0m",
      "\u001b[0;31mNameError\u001b[0m                                 Traceback (most recent call last)",
      "Cell \u001b[0;32mIn[13], line 2\u001b[0m\n\u001b[1;32m      1\u001b[0m validation_set \u001b[38;5;241m=\u001b[39m ImageDataGenerator(rescale\u001b[38;5;241m=\u001b[39m\u001b[38;5;241m1.\u001b[39m\u001b[38;5;241m/\u001b[39m\u001b[38;5;241m255\u001b[39m)\u001b[38;5;241m.\u001b[39mflow_from_directory(val_path,\n\u001b[0;32m----> 2\u001b[0m                                                                         target_size\u001b[38;5;241m=\u001b[39m\u001b[43mimage_shape\u001b[49m[:\u001b[38;5;241m2\u001b[39m],\n\u001b[1;32m      3\u001b[0m                                                                         color_mode\u001b[38;5;241m=\u001b[39m\u001b[38;5;124m'\u001b[39m\u001b[38;5;124mrgb\u001b[39m\u001b[38;5;124m'\u001b[39m,\n\u001b[1;32m      4\u001b[0m                                                                         batch_size\u001b[38;5;241m=\u001b[39mbatch_size,\n\u001b[1;32m      5\u001b[0m                                                                         class_mode\u001b[38;5;241m=\u001b[39m\u001b[38;5;124m'\u001b[39m\u001b[38;5;124mbinary\u001b[39m\u001b[38;5;124m'\u001b[39m,\n\u001b[1;32m      6\u001b[0m                                                                         shuffle\u001b[38;5;241m=\u001b[39m\u001b[38;5;28;01mFalse\u001b[39;00m\n\u001b[1;32m      7\u001b[0m                                                                         )\n\u001b[1;32m      9\u001b[0m validation_set\u001b[38;5;241m.\u001b[39mclass_indices\n",
      "\u001b[0;31mNameError\u001b[0m: name 'image_shape' is not defined"
     ]
    }
   ],
   "source": [
    "validation_set = ImageDataGenerator(rescale=1./255).flow_from_directory(val_path,\n",
    "                                                                        target_size=image_shape[:2],\n",
    "                                                                        color_mode='rgb',\n",
    "                                                                        batch_size=batch_size,\n",
    "                                                                        class_mode='binary',\n",
    "                                                                        shuffle=False\n",
    "                                                                        )\n",
    "\n",
    "validation_set.class_indices\n"
   ]
  },
  {
   "cell_type": "markdown",
   "metadata": {
    "id": "jxDzlWdBXGGI"
   },
   "source": [
    "* ### Augment test image dataset"
   ]
  },
  {
   "cell_type": "code",
   "execution_count": 14,
   "metadata": {
    "id": "egJ0XQSkQZ7i",
    "tags": []
   },
   "outputs": [
    {
     "output_type": "error",
     "ename": "NameError",
     "evalue": "name 'image_shape' is not defined",
     "traceback": [
      "\u001b[0;31m---------------------------------------------------------------------------\u001b[0m",
      "\u001b[0;31mNameError\u001b[0m                                 Traceback (most recent call last)",
      "Cell \u001b[0;32mIn[14], line 2\u001b[0m\n\u001b[1;32m      1\u001b[0m test_set \u001b[38;5;241m=\u001b[39m ImageDataGenerator(rescale\u001b[38;5;241m=\u001b[39m\u001b[38;5;241m1.\u001b[39m\u001b[38;5;241m/\u001b[39m\u001b[38;5;241m255\u001b[39m)\u001b[38;5;241m.\u001b[39mflow_from_directory(test_path,\n\u001b[0;32m----> 2\u001b[0m                                                                   target_size\u001b[38;5;241m=\u001b[39m\u001b[43mimage_shape\u001b[49m[:\u001b[38;5;241m2\u001b[39m],\n\u001b[1;32m      3\u001b[0m                                                                   color_mode\u001b[38;5;241m=\u001b[39m\u001b[38;5;124m'\u001b[39m\u001b[38;5;124mrgb\u001b[39m\u001b[38;5;124m'\u001b[39m,\n\u001b[1;32m      4\u001b[0m                                                                   batch_size\u001b[38;5;241m=\u001b[39mbatch_size,\n\u001b[1;32m      5\u001b[0m                                                                   class_mode\u001b[38;5;241m=\u001b[39m\u001b[38;5;124m'\u001b[39m\u001b[38;5;124mbinary\u001b[39m\u001b[38;5;124m'\u001b[39m,\n\u001b[1;32m      6\u001b[0m                                                                   shuffle\u001b[38;5;241m=\u001b[39m\u001b[38;5;28;01mFalse\u001b[39;00m\n\u001b[1;32m      7\u001b[0m                                                                   )\n\u001b[1;32m      9\u001b[0m test_set\u001b[38;5;241m.\u001b[39mclass_indices\n",
      "\u001b[0;31mNameError\u001b[0m: name 'image_shape' is not defined"
     ]
    }
   ],
   "source": [
    "test_set = ImageDataGenerator(rescale=1./255).flow_from_directory(test_path,\n",
    "                                                                  target_size=image_shape[:2],\n",
    "                                                                  color_mode='rgb',\n",
    "                                                                  batch_size=batch_size,\n",
    "                                                                  class_mode='binary',\n",
    "                                                                  shuffle=False\n",
    "                                                                  )\n",
    "\n",
    "test_set.class_indices\n"
   ]
  },
  {
   "cell_type": "markdown",
   "metadata": {},
   "source": [
    "## Plot augmented training image"
   ]
  },
  {
   "cell_type": "code",
   "execution_count": 15,
   "metadata": {
    "tags": []
   },
   "outputs": [
    {
     "output_type": "error",
     "ename": "NameError",
     "evalue": "name 'train_set' is not defined",
     "traceback": [
      "\u001b[0;31m---------------------------------------------------------------------------\u001b[0m",
      "\u001b[0;31mNameError\u001b[0m                                 Traceback (most recent call last)",
      "Cell \u001b[0;32mIn[15], line 2\u001b[0m\n\u001b[1;32m      1\u001b[0m \u001b[38;5;28;01mfor\u001b[39;00m _ \u001b[38;5;129;01min\u001b[39;00m \u001b[38;5;28mrange\u001b[39m(\u001b[38;5;241m3\u001b[39m):\n\u001b[0;32m----> 2\u001b[0m     img, label \u001b[38;5;241m=\u001b[39m \u001b[43mtrain_set\u001b[49m\u001b[38;5;241m.\u001b[39mnext()\n\u001b[1;32m      3\u001b[0m     \u001b[38;5;28mprint\u001b[39m(img\u001b[38;5;241m.\u001b[39mshape)  \u001b[38;5;66;03m# (1,256,256,3)\u001b[39;00m\n\u001b[1;32m      4\u001b[0m     plt\u001b[38;5;241m.\u001b[39mimshow(img[\u001b[38;5;241m0\u001b[39m])\n",
      "\u001b[0;31mNameError\u001b[0m: name 'train_set' is not defined"
     ]
    }
   ],
   "source": [
    "for _ in range(3):\n",
    "    img, label = train_set.next()\n",
    "    print(img.shape)  # (1,256,256,3)\n",
    "    plt.imshow(img[0])\n",
    "    plt.show()\n"
   ]
  },
  {
   "cell_type": "markdown",
   "metadata": {},
   "source": [
    "## Plot augmented validation and test images"
   ]
  },
  {
   "cell_type": "code",
   "execution_count": 16,
   "metadata": {
    "tags": []
   },
   "outputs": [
    {
     "output_type": "error",
     "ename": "NameError",
     "evalue": "name 'validation_set' is not defined",
     "traceback": [
      "\u001b[0;31m---------------------------------------------------------------------------\u001b[0m",
      "\u001b[0;31mNameError\u001b[0m                                 Traceback (most recent call last)",
      "Cell \u001b[0;32mIn[16], line 2\u001b[0m\n\u001b[1;32m      1\u001b[0m \u001b[38;5;28;01mfor\u001b[39;00m _ \u001b[38;5;129;01min\u001b[39;00m \u001b[38;5;28mrange\u001b[39m(\u001b[38;5;241m3\u001b[39m):\n\u001b[0;32m----> 2\u001b[0m     img, label \u001b[38;5;241m=\u001b[39m \u001b[43mvalidation_set\u001b[49m\u001b[38;5;241m.\u001b[39mnext()\n\u001b[1;32m      3\u001b[0m     \u001b[38;5;28mprint\u001b[39m(img\u001b[38;5;241m.\u001b[39mshape)  \u001b[38;5;66;03m# (1,256,256,3)\u001b[39;00m\n\u001b[1;32m      4\u001b[0m     plt\u001b[38;5;241m.\u001b[39mimshow(img[\u001b[38;5;241m0\u001b[39m])\n",
      "\u001b[0;31mNameError\u001b[0m: name 'validation_set' is not defined"
     ]
    }
   ],
   "source": [
    "for _ in range(3):\n",
    "    img, label = validation_set.next()\n",
    "    print(img.shape)  # (1,256,256,3)\n",
    "    plt.imshow(img[0])\n",
    "    plt.show()\n"
   ]
  },
  {
   "cell_type": "code",
   "execution_count": 17,
   "metadata": {
    "tags": []
   },
   "outputs": [
    {
     "output_type": "error",
     "ename": "NameError",
     "evalue": "name 'test_set' is not defined",
     "traceback": [
      "\u001b[0;31m---------------------------------------------------------------------------\u001b[0m",
      "\u001b[0;31mNameError\u001b[0m                                 Traceback (most recent call last)",
      "Cell \u001b[0;32mIn[17], line 2\u001b[0m\n\u001b[1;32m      1\u001b[0m \u001b[38;5;28;01mfor\u001b[39;00m _ \u001b[38;5;129;01min\u001b[39;00m \u001b[38;5;28mrange\u001b[39m(\u001b[38;5;241m3\u001b[39m):\n\u001b[0;32m----> 2\u001b[0m     img, label \u001b[38;5;241m=\u001b[39m \u001b[43mtest_set\u001b[49m\u001b[38;5;241m.\u001b[39mnext()\n\u001b[1;32m      3\u001b[0m     \u001b[38;5;28mprint\u001b[39m(img\u001b[38;5;241m.\u001b[39mshape)  \u001b[38;5;66;03m# (1,256,256,3)\u001b[39;00m\n\u001b[1;32m      4\u001b[0m     plt\u001b[38;5;241m.\u001b[39mimshow(img[\u001b[38;5;241m0\u001b[39m])\n",
      "\u001b[0;31mNameError\u001b[0m: name 'test_set' is not defined"
     ]
    }
   ],
   "source": [
    "for _ in range(3):\n",
    "    img, label = test_set.next()\n",
    "    print(img.shape)  # (1,256,256,3)\n",
    "    plt.imshow(img[0])\n",
    "    plt.show()\n"
   ]
  },
  {
   "cell_type": "markdown",
   "metadata": {
    "id": "sxFqIpblnaDI"
   },
   "source": [
    "## Save class_indices"
   ]
  },
  {
   "cell_type": "code",
   "execution_count": 18,
   "metadata": {
    "id": "c60wT9Nvnaht"
   },
   "outputs": [
    {
     "output_type": "error",
     "ename": "NameError",
     "evalue": "name 'train_set' is not defined",
     "traceback": [
      "\u001b[0;31m---------------------------------------------------------------------------\u001b[0m",
      "\u001b[0;31mNameError\u001b[0m                                 Traceback (most recent call last)",
      "Cell \u001b[0;32mIn[18], line 1\u001b[0m\n\u001b[0;32m----> 1\u001b[0m joblib\u001b[38;5;241m.\u001b[39mdump(value\u001b[38;5;241m=\u001b[39m\u001b[43mtrain_set\u001b[49m\u001b[38;5;241m.\u001b[39mclass_indices,\n\u001b[1;32m      2\u001b[0m             filename\u001b[38;5;241m=\u001b[39m\u001b[38;5;124mf\u001b[39m\u001b[38;5;124m\"\u001b[39m\u001b[38;5;132;01m{\u001b[39;00mfile_path\u001b[38;5;132;01m}\u001b[39;00m\u001b[38;5;124m/class_indices.pkl\u001b[39m\u001b[38;5;124m\"\u001b[39m)\n",
      "\u001b[0;31mNameError\u001b[0m: name 'train_set' is not defined"
     ]
    }
   ],
   "source": [
    "joblib.dump(value=train_set.class_indices,\n",
    "            filename=f\"{file_path}/class_indices.pkl\")\n"
   ]
  },
  {
   "cell_type": "markdown",
   "metadata": {
    "id": "Zp4l-B11vCiP"
   },
   "source": [
    "---"
   ]
  },
  {
   "cell_type": "markdown",
   "metadata": {
    "id": "qved3ALYLrng"
   },
   "source": [
    "# Model creation"
   ]
  },
  {
   "cell_type": "markdown",
   "metadata": {
    "id": "qRwFQLlmwrl9"
   },
   "source": [
    "---"
   ]
  },
  {
   "cell_type": "markdown",
   "metadata": {
    "id": "lp60ceJkvFab"
   },
   "source": [
    "## ML model"
   ]
  },
  {
   "cell_type": "markdown",
   "metadata": {},
   "source": [
    "* ### Import model packages"
   ]
  },
  {
   "cell_type": "code",
   "execution_count": 19,
   "metadata": {},
   "outputs": [],
   "source": [
    "from tensorflow.keras.models import Sequential\n",
    "from tensorflow.keras.layers import Activation, Dropout, Flatten, Dense, Conv2D, MaxPooling2D"
   ]
  },
  {
   "cell_type": "markdown",
   "metadata": {},
   "source": [
    "* ### Model "
   ]
  },
  {
   "cell_type": "code",
   "execution_count": 20,
   "metadata": {
    "id": "3em0FUWzBTCF"
   },
   "outputs": [],
   "source": [
    "\n",
    "def create_tf_model():\n",
    "    model = Sequential()\n",
    "\n",
    "    model.add(Conv2D(filters=32, kernel_size=(3, 3),\n",
    "              input_shape=image_shape, activation='relu', ))\n",
    "    model.add(MaxPooling2D(pool_size=(2, 2)))\n",
    "\n",
    "    model.add(Conv2D(filters=64, kernel_size=(3, 3),\n",
    "              input_shape=image_shape, activation='relu', ))\n",
    "    model.add(MaxPooling2D(pool_size=(2, 2)))\n",
    "\n",
    "    model.add(Conv2D(filters=64, kernel_size=(3, 3),\n",
    "              input_shape=image_shape, activation='relu', ))\n",
    "    model.add(MaxPooling2D(pool_size=(2, 2)))\n",
    "\n",
    "    model.add(Flatten())\n",
    "    model.add(Dense(128, activation='relu'))\n",
    "\n",
    "    model.add(Dropout(0.5))\n",
    "    model.add(Dense(1, activation='sigmoid'))\n",
    "\n",
    "    model.compile(loss='binary_crossentropy',\n",
    "                  optimizer='adam',\n",
    "                  metrics=['accuracy'])\n",
    "\n",
    "    return model\n"
   ]
  },
  {
   "cell_type": "markdown",
   "metadata": {},
   "source": [
    "* ### Model Summary "
   ]
  },
  {
   "cell_type": "code",
   "execution_count": 21,
   "metadata": {
    "id": "x0fnaUSeBTFy",
    "tags": []
   },
   "outputs": [
    {
     "output_type": "stream",
     "name": "stderr",
     "text": "2023-06-15 18:55:01.779764: I tensorflow/core/platform/cpu_feature_guard.cc:142] This TensorFlow binary is optimized with oneAPI Deep Neural Network Library (oneDNN) to use the following CPU instructions in performance-critical operations:  AVX2 FMA\nTo enable them in other operations, rebuild TensorFlow with the appropriate compiler flags.\n"
    },
    {
     "output_type": "error",
     "ename": "NameError",
     "evalue": "name 'image_shape' is not defined",
     "traceback": [
      "\u001b[0;31m---------------------------------------------------------------------------\u001b[0m",
      "\u001b[0;31mNameError\u001b[0m                                 Traceback (most recent call last)",
      "Cell \u001b[0;32mIn[21], line 1\u001b[0m\n\u001b[0;32m----> 1\u001b[0m \u001b[43mcreate_tf_model\u001b[49m\u001b[43m(\u001b[49m\u001b[43m)\u001b[49m\u001b[38;5;241m.\u001b[39msummary()\n",
      "Cell \u001b[0;32mIn[20], line 5\u001b[0m, in \u001b[0;36mcreate_tf_model\u001b[0;34m()\u001b[0m\n\u001b[1;32m      1\u001b[0m \u001b[38;5;28;01mdef\u001b[39;00m \u001b[38;5;21mcreate_tf_model\u001b[39m():\n\u001b[1;32m      2\u001b[0m     model \u001b[38;5;241m=\u001b[39m Sequential()\n\u001b[1;32m      4\u001b[0m     model\u001b[38;5;241m.\u001b[39madd(Conv2D(filters\u001b[38;5;241m=\u001b[39m\u001b[38;5;241m32\u001b[39m, kernel_size\u001b[38;5;241m=\u001b[39m(\u001b[38;5;241m3\u001b[39m, \u001b[38;5;241m3\u001b[39m),\n\u001b[0;32m----> 5\u001b[0m               input_shape\u001b[38;5;241m=\u001b[39m\u001b[43mimage_shape\u001b[49m, activation\u001b[38;5;241m=\u001b[39m\u001b[38;5;124m'\u001b[39m\u001b[38;5;124mrelu\u001b[39m\u001b[38;5;124m'\u001b[39m, ))\n\u001b[1;32m      6\u001b[0m     model\u001b[38;5;241m.\u001b[39madd(MaxPooling2D(pool_size\u001b[38;5;241m=\u001b[39m(\u001b[38;5;241m2\u001b[39m, \u001b[38;5;241m2\u001b[39m)))\n\u001b[1;32m      8\u001b[0m     model\u001b[38;5;241m.\u001b[39madd(Conv2D(filters\u001b[38;5;241m=\u001b[39m\u001b[38;5;241m64\u001b[39m, kernel_size\u001b[38;5;241m=\u001b[39m(\u001b[38;5;241m3\u001b[39m, \u001b[38;5;241m3\u001b[39m),\n\u001b[1;32m      9\u001b[0m               input_shape\u001b[38;5;241m=\u001b[39mimage_shape, activation\u001b[38;5;241m=\u001b[39m\u001b[38;5;124m'\u001b[39m\u001b[38;5;124mrelu\u001b[39m\u001b[38;5;124m'\u001b[39m, ))\n",
      "\u001b[0;31mNameError\u001b[0m: name 'image_shape' is not defined"
     ]
    }
   ],
   "source": [
    "create_tf_model().summary()"
   ]
  },
  {
   "cell_type": "markdown",
   "metadata": {},
   "source": [
    "* ### Early Stopping "
   ]
  },
  {
   "cell_type": "code",
   "execution_count": 22,
   "metadata": {
    "id": "49bP61QYBTMF"
   },
   "outputs": [],
   "source": [
    "from tensorflow.keras.callbacks import EarlyStopping\n",
    "early_stop = EarlyStopping(monitor='val_loss', patience=3)\n"
   ]
  },
  {
   "cell_type": "markdown",
   "metadata": {
    "id": "5-Sv_Nlfzr5F"
   },
   "source": [
    "## Fit model for model training"
   ]
  },
  {
   "cell_type": "code",
   "execution_count": 23,
   "metadata": {
    "id": "HHD-ggqiB3zV",
    "tags": []
   },
   "outputs": [
    {
     "output_type": "error",
     "ename": "NameError",
     "evalue": "name 'image_shape' is not defined",
     "traceback": [
      "\u001b[0;31m---------------------------------------------------------------------------\u001b[0m",
      "\u001b[0;31mNameError\u001b[0m                                 Traceback (most recent call last)",
      "Cell \u001b[0;32mIn[23], line 1\u001b[0m\n\u001b[0;32m----> 1\u001b[0m model \u001b[38;5;241m=\u001b[39m \u001b[43mcreate_tf_model\u001b[49m\u001b[43m(\u001b[49m\u001b[43m)\u001b[49m\n\u001b[1;32m      2\u001b[0m model\u001b[38;5;241m.\u001b[39mfit(train_set,\n\u001b[1;32m      3\u001b[0m           epochs\u001b[38;5;241m=\u001b[39m\u001b[38;5;241m25\u001b[39m,\n\u001b[1;32m      4\u001b[0m           steps_per_epoch\u001b[38;5;241m=\u001b[39m\u001b[38;5;28mlen\u001b[39m(train_set\u001b[38;5;241m.\u001b[39mclasses) \u001b[38;5;241m/\u001b[39m\u001b[38;5;241m/\u001b[39m batch_size,\n\u001b[0;32m   (...)\u001b[0m\n\u001b[1;32m      7\u001b[0m           verbose\u001b[38;5;241m=\u001b[39m\u001b[38;5;241m1\u001b[39m\n\u001b[1;32m      8\u001b[0m           )\n",
      "Cell \u001b[0;32mIn[20], line 5\u001b[0m, in \u001b[0;36mcreate_tf_model\u001b[0;34m()\u001b[0m\n\u001b[1;32m      1\u001b[0m \u001b[38;5;28;01mdef\u001b[39;00m \u001b[38;5;21mcreate_tf_model\u001b[39m():\n\u001b[1;32m      2\u001b[0m     model \u001b[38;5;241m=\u001b[39m Sequential()\n\u001b[1;32m      4\u001b[0m     model\u001b[38;5;241m.\u001b[39madd(Conv2D(filters\u001b[38;5;241m=\u001b[39m\u001b[38;5;241m32\u001b[39m, kernel_size\u001b[38;5;241m=\u001b[39m(\u001b[38;5;241m3\u001b[39m, \u001b[38;5;241m3\u001b[39m),\n\u001b[0;32m----> 5\u001b[0m               input_shape\u001b[38;5;241m=\u001b[39m\u001b[43mimage_shape\u001b[49m, activation\u001b[38;5;241m=\u001b[39m\u001b[38;5;124m'\u001b[39m\u001b[38;5;124mrelu\u001b[39m\u001b[38;5;124m'\u001b[39m, ))\n\u001b[1;32m      6\u001b[0m     model\u001b[38;5;241m.\u001b[39madd(MaxPooling2D(pool_size\u001b[38;5;241m=\u001b[39m(\u001b[38;5;241m2\u001b[39m, \u001b[38;5;241m2\u001b[39m)))\n\u001b[1;32m      8\u001b[0m     model\u001b[38;5;241m.\u001b[39madd(Conv2D(filters\u001b[38;5;241m=\u001b[39m\u001b[38;5;241m64\u001b[39m, kernel_size\u001b[38;5;241m=\u001b[39m(\u001b[38;5;241m3\u001b[39m, \u001b[38;5;241m3\u001b[39m),\n\u001b[1;32m      9\u001b[0m               input_shape\u001b[38;5;241m=\u001b[39mimage_shape, activation\u001b[38;5;241m=\u001b[39m\u001b[38;5;124m'\u001b[39m\u001b[38;5;124mrelu\u001b[39m\u001b[38;5;124m'\u001b[39m, ))\n",
      "\u001b[0;31mNameError\u001b[0m: name 'image_shape' is not defined"
     ]
    }
   ],
   "source": [
    "model = create_tf_model()\n",
    "model.fit(train_set,\n",
    "          epochs=25,\n",
    "          steps_per_epoch=len(train_set.classes) // batch_size,\n",
    "          validation_data=validation_set,\n",
    "          callbacks=[early_stop],\n",
    "          verbose=1\n",
    "          )\n"
   ]
  },
  {
   "cell_type": "markdown",
   "metadata": {
    "id": "rtuBjjzFiQRh"
   },
   "source": [
    "## Save model"
   ]
  },
  {
   "cell_type": "code",
   "execution_count": 24,
   "metadata": {},
   "outputs": [
    {
     "output_type": "error",
     "ename": "NameError",
     "evalue": "name 'model' is not defined",
     "traceback": [
      "\u001b[0;31m---------------------------------------------------------------------------\u001b[0m",
      "\u001b[0;31mNameError\u001b[0m                                 Traceback (most recent call last)",
      "Cell \u001b[0;32mIn[24], line 1\u001b[0m\n\u001b[0;32m----> 1\u001b[0m \u001b[43mmodel\u001b[49m\u001b[38;5;241m.\u001b[39msave(\u001b[38;5;124m'\u001b[39m\u001b[38;5;124moutputs/v1/malaria_detector_model.h5\u001b[39m\u001b[38;5;124m'\u001b[39m)\n",
      "\u001b[0;31mNameError\u001b[0m: name 'model' is not defined"
     ]
    }
   ],
   "source": [
    "model.save('outputs/v1/malaria_detector_model.h5')"
   ]
  },
  {
   "cell_type": "markdown",
   "metadata": {
    "id": "Zp4l-B11vCiP"
   },
   "source": [
    "---"
   ]
  },
  {
   "cell_type": "markdown",
   "metadata": {
    "id": "qved3ALYLrng"
   },
   "source": [
    "# Model Performace"
   ]
  },
  {
   "cell_type": "markdown",
   "metadata": {
    "id": "qRwFQLlmwrl9"
   },
   "source": [
    "---"
   ]
  },
  {
   "cell_type": "markdown",
   "metadata": {
    "id": "uESgICbOztUi"
   },
   "source": [
    "## Model learning curve"
   ]
  },
  {
   "cell_type": "code",
   "execution_count": 25,
   "metadata": {
    "id": "inzjI5Ve2UVi",
    "tags": []
   },
   "outputs": [
    {
     "output_type": "error",
     "ename": "NameError",
     "evalue": "name 'model' is not defined",
     "traceback": [
      "\u001b[0;31m---------------------------------------------------------------------------\u001b[0m",
      "\u001b[0;31mNameError\u001b[0m                                 Traceback (most recent call last)",
      "Cell \u001b[0;32mIn[25], line 1\u001b[0m\n\u001b[0;32m----> 1\u001b[0m losses \u001b[38;5;241m=\u001b[39m pd\u001b[38;5;241m.\u001b[39mDataFrame(\u001b[43mmodel\u001b[49m\u001b[38;5;241m.\u001b[39mhistory\u001b[38;5;241m.\u001b[39mhistory)\n\u001b[1;32m      3\u001b[0m sns\u001b[38;5;241m.\u001b[39mset_style(\u001b[38;5;124m\"\u001b[39m\u001b[38;5;124mwhitegrid\u001b[39m\u001b[38;5;124m\"\u001b[39m)\n\u001b[1;32m      4\u001b[0m losses[[\u001b[38;5;124m'\u001b[39m\u001b[38;5;124mloss\u001b[39m\u001b[38;5;124m'\u001b[39m, \u001b[38;5;124m'\u001b[39m\u001b[38;5;124mval_loss\u001b[39m\u001b[38;5;124m'\u001b[39m]]\u001b[38;5;241m.\u001b[39mplot(style\u001b[38;5;241m=\u001b[39m\u001b[38;5;124m'\u001b[39m\u001b[38;5;124m.-\u001b[39m\u001b[38;5;124m'\u001b[39m)\n",
      "\u001b[0;31mNameError\u001b[0m: name 'model' is not defined"
     ]
    }
   ],
   "source": [
    "losses = pd.DataFrame(model.history.history)\n",
    "\n",
    "sns.set_style(\"whitegrid\")\n",
    "losses[['loss', 'val_loss']].plot(style='.-')\n",
    "plt.title(\"Loss\")\n",
    "plt.savefig(f'{file_path}/model_training_losses.png',\n",
    "            bbox_inches='tight', dpi=150)\n",
    "plt.show()\n",
    "\n",
    "print(\"\\n\")\n",
    "losses[['accuracy', 'val_accuracy']].plot(style='.-')\n",
    "plt.title(\"Accuracy\")\n",
    "plt.savefig(f'{file_path}/model_training_acc.png',\n",
    "            bbox_inches='tight', dpi=150)\n",
    "plt.show()\n"
   ]
  },
  {
   "cell_type": "markdown",
   "metadata": {
    "id": "_I41227LlqtV"
   },
   "source": [
    "## Model Evaluation"
   ]
  },
  {
   "cell_type": "markdown",
   "metadata": {},
   "source": [
    "Load saved model"
   ]
  },
  {
   "cell_type": "code",
   "execution_count": 26,
   "metadata": {},
   "outputs": [
    {
     "output_type": "error",
     "ename": "OSError",
     "evalue": "SavedModel file does not exist at: outputs/v1/malaria_detector_model.h5/{saved_model.pbtxt|saved_model.pb}",
     "traceback": [
      "\u001b[0;31m---------------------------------------------------------------------------\u001b[0m",
      "\u001b[0;31mOSError\u001b[0m                                   Traceback (most recent call last)",
      "Cell \u001b[0;32mIn[26], line 2\u001b[0m\n\u001b[1;32m      1\u001b[0m \u001b[38;5;28;01mfrom\u001b[39;00m \u001b[38;5;21;01mkeras\u001b[39;00m\u001b[38;5;21;01m.\u001b[39;00m\u001b[38;5;21;01mmodels\u001b[39;00m \u001b[38;5;28;01mimport\u001b[39;00m load_model\n\u001b[0;32m----> 2\u001b[0m model \u001b[38;5;241m=\u001b[39m \u001b[43mload_model\u001b[49m\u001b[43m(\u001b[49m\u001b[38;5;124;43m'\u001b[39;49m\u001b[38;5;124;43moutputs/v1/malaria_detector_model.h5\u001b[39;49m\u001b[38;5;124;43m'\u001b[39;49m\u001b[43m)\u001b[49m\n",
      "File \u001b[0;32m~/.local/lib/python3.8/site-packages/keras/saving/save.py:205\u001b[0m, in \u001b[0;36mload_model\u001b[0;34m(filepath, custom_objects, compile, options)\u001b[0m\n\u001b[1;32m    203\u001b[0m       filepath \u001b[38;5;241m=\u001b[39m path_to_string(filepath)\n\u001b[1;32m    204\u001b[0m       \u001b[38;5;28;01mif\u001b[39;00m \u001b[38;5;28misinstance\u001b[39m(filepath, \u001b[38;5;28mstr\u001b[39m):\n\u001b[0;32m--> 205\u001b[0m         \u001b[38;5;28;01mreturn\u001b[39;00m \u001b[43msaved_model_load\u001b[49m\u001b[38;5;241;43m.\u001b[39;49m\u001b[43mload\u001b[49m\u001b[43m(\u001b[49m\u001b[43mfilepath\u001b[49m\u001b[43m,\u001b[49m\u001b[43m \u001b[49m\u001b[38;5;28;43mcompile\u001b[39;49m\u001b[43m,\u001b[49m\u001b[43m \u001b[49m\u001b[43moptions\u001b[49m\u001b[43m)\u001b[49m\n\u001b[1;32m    207\u001b[0m \u001b[38;5;28;01mraise\u001b[39;00m \u001b[38;5;167;01mIOError\u001b[39;00m(\n\u001b[1;32m    208\u001b[0m     \u001b[38;5;124m'\u001b[39m\u001b[38;5;124mUnable to load model. Filepath is not an hdf5 file (or h5py is not \u001b[39m\u001b[38;5;124m'\u001b[39m\n\u001b[1;32m    209\u001b[0m     \u001b[38;5;124m'\u001b[39m\u001b[38;5;124mavailable) or SavedModel.\u001b[39m\u001b[38;5;124m'\u001b[39m)\n",
      "File \u001b[0;32m~/.local/lib/python3.8/site-packages/keras/saving/saved_model/load.py:108\u001b[0m, in \u001b[0;36mload\u001b[0;34m(path, compile, options)\u001b[0m\n\u001b[1;32m    103\u001b[0m \u001b[38;5;66;03m# TODO(kathywu): Add saving/loading of optimizer, compiled losses and metrics.\u001b[39;00m\n\u001b[1;32m    104\u001b[0m \u001b[38;5;66;03m# TODO(kathywu): Add code to load from objects that contain all endpoints\u001b[39;00m\n\u001b[1;32m    105\u001b[0m \n\u001b[1;32m    106\u001b[0m \u001b[38;5;66;03m# Look for metadata file or parse the SavedModel\u001b[39;00m\n\u001b[1;32m    107\u001b[0m metadata \u001b[38;5;241m=\u001b[39m saved_metadata_pb2\u001b[38;5;241m.\u001b[39mSavedMetadata()\n\u001b[0;32m--> 108\u001b[0m meta_graph_def \u001b[38;5;241m=\u001b[39m \u001b[43mtf\u001b[49m\u001b[38;5;241;43m.\u001b[39;49m\u001b[43m__internal__\u001b[49m\u001b[38;5;241;43m.\u001b[39;49m\u001b[43msaved_model\u001b[49m\u001b[38;5;241;43m.\u001b[39;49m\u001b[43mparse_saved_model\u001b[49m\u001b[43m(\u001b[49m\u001b[43mpath\u001b[49m\u001b[43m)\u001b[49m\u001b[38;5;241m.\u001b[39mmeta_graphs[\u001b[38;5;241m0\u001b[39m]\n\u001b[1;32m    109\u001b[0m object_graph_def \u001b[38;5;241m=\u001b[39m meta_graph_def\u001b[38;5;241m.\u001b[39mobject_graph_def\n\u001b[1;32m    110\u001b[0m path_to_metadata_pb \u001b[38;5;241m=\u001b[39m os\u001b[38;5;241m.\u001b[39mpath\u001b[38;5;241m.\u001b[39mjoin(path, constants\u001b[38;5;241m.\u001b[39mSAVED_METADATA_PATH)\n",
      "File \u001b[0;32m~/.local/lib/python3.8/site-packages/tensorflow/python/saved_model/loader_impl.py:118\u001b[0m, in \u001b[0;36mparse_saved_model\u001b[0;34m(export_dir)\u001b[0m\n\u001b[1;32m    116\u001b[0m     \u001b[38;5;28;01mraise\u001b[39;00m \u001b[38;5;167;01mIOError\u001b[39;00m(\u001b[38;5;124m\"\u001b[39m\u001b[38;5;124mCannot parse file \u001b[39m\u001b[38;5;132;01m%s\u001b[39;00m\u001b[38;5;124m: \u001b[39m\u001b[38;5;132;01m%s\u001b[39;00m\u001b[38;5;124m.\u001b[39m\u001b[38;5;124m\"\u001b[39m \u001b[38;5;241m%\u001b[39m (path_to_pbtxt, \u001b[38;5;28mstr\u001b[39m(e)))\n\u001b[1;32m    117\u001b[0m \u001b[38;5;28;01melse\u001b[39;00m:\n\u001b[0;32m--> 118\u001b[0m   \u001b[38;5;28;01mraise\u001b[39;00m \u001b[38;5;167;01mIOError\u001b[39;00m(\n\u001b[1;32m    119\u001b[0m       \u001b[38;5;124m\"\u001b[39m\u001b[38;5;124mSavedModel file does not exist at: \u001b[39m\u001b[38;5;132;01m%s\u001b[39;00m\u001b[38;5;132;01m%s\u001b[39;00m\u001b[38;5;124m{\u001b[39m\u001b[38;5;132;01m%s\u001b[39;00m\u001b[38;5;124m|\u001b[39m\u001b[38;5;132;01m%s\u001b[39;00m\u001b[38;5;124m}\u001b[39m\u001b[38;5;124m\"\u001b[39m \u001b[38;5;241m%\u001b[39m\n\u001b[1;32m    120\u001b[0m       (export_dir, os\u001b[38;5;241m.\u001b[39mpath\u001b[38;5;241m.\u001b[39msep, constants\u001b[38;5;241m.\u001b[39mSAVED_MODEL_FILENAME_PBTXT,\n\u001b[1;32m    121\u001b[0m        constants\u001b[38;5;241m.\u001b[39mSAVED_MODEL_FILENAME_PB))\n",
      "\u001b[0;31mOSError\u001b[0m: SavedModel file does not exist at: outputs/v1/malaria_detector_model.h5/{saved_model.pbtxt|saved_model.pb}"
     ]
    }
   ],
   "source": [
    "from keras.models import load_model\n",
    "model = load_model('outputs/v1/malaria_detector_model.h5')"
   ]
  },
  {
   "cell_type": "markdown",
   "metadata": {
    "id": "Auo3VPdvmVL1"
   },
   "source": [
    "Evaluate model on test set"
   ]
  },
  {
   "cell_type": "code",
   "execution_count": 27,
   "metadata": {
    "id": "_dsaUbtSlK8V",
    "tags": []
   },
   "outputs": [
    {
     "output_type": "error",
     "ename": "NameError",
     "evalue": "name 'model' is not defined",
     "traceback": [
      "\u001b[0;31m---------------------------------------------------------------------------\u001b[0m",
      "\u001b[0;31mNameError\u001b[0m                                 Traceback (most recent call last)",
      "Cell \u001b[0;32mIn[27], line 1\u001b[0m\n\u001b[0;32m----> 1\u001b[0m evaluation \u001b[38;5;241m=\u001b[39m \u001b[43mmodel\u001b[49m\u001b[38;5;241m.\u001b[39mevaluate(test_set)\n",
      "\u001b[0;31mNameError\u001b[0m: name 'model' is not defined"
     ]
    }
   ],
   "source": [
    "evaluation = model.evaluate(test_set)\n"
   ]
  },
  {
   "cell_type": "markdown",
   "metadata": {},
   "source": [
    "### Save evaluation pickle"
   ]
  },
  {
   "cell_type": "code",
   "execution_count": 28,
   "metadata": {},
   "outputs": [
    {
     "output_type": "error",
     "ename": "NameError",
     "evalue": "name 'evaluation' is not defined",
     "traceback": [
      "\u001b[0;31m---------------------------------------------------------------------------\u001b[0m",
      "\u001b[0;31mNameError\u001b[0m                                 Traceback (most recent call last)",
      "Cell \u001b[0;32mIn[28], line 1\u001b[0m\n\u001b[0;32m----> 1\u001b[0m joblib\u001b[38;5;241m.\u001b[39mdump(value\u001b[38;5;241m=\u001b[39m\u001b[43mevaluation\u001b[49m,\n\u001b[1;32m      2\u001b[0m             filename\u001b[38;5;241m=\u001b[39m\u001b[38;5;124mf\u001b[39m\u001b[38;5;124m\"\u001b[39m\u001b[38;5;124moutputs/v1/evaluation.pkl\u001b[39m\u001b[38;5;124m\"\u001b[39m)\n",
      "\u001b[0;31mNameError\u001b[0m: name 'evaluation' is not defined"
     ]
    }
   ],
   "source": [
    "joblib.dump(value=evaluation,\n",
    "            filename=f\"outputs/v1/evaluation.pkl\")\n"
   ]
  },
  {
   "cell_type": "markdown",
   "metadata": {
    "id": "rtuBjjzFiQRh"
   },
   "source": [
    "## Predict on new data"
   ]
  },
  {
   "cell_type": "markdown",
   "metadata": {
    "id": "Mt6Esizw677F"
   },
   "source": [
    "Load a random image as PIL"
   ]
  },
  {
   "cell_type": "code",
   "execution_count": 29,
   "metadata": {
    "id": "Oz-NL2mXaczH",
    "tags": []
   },
   "outputs": [
    {
     "output_type": "error",
     "ename": "NameError",
     "evalue": "name 'labels' is not defined",
     "traceback": [
      "\u001b[0;31m---------------------------------------------------------------------------\u001b[0m",
      "\u001b[0;31mNameError\u001b[0m                                 Traceback (most recent call last)",
      "Cell \u001b[0;32mIn[29], line 4\u001b[0m\n\u001b[1;32m      1\u001b[0m \u001b[38;5;28;01mfrom\u001b[39;00m \u001b[38;5;21;01mtensorflow\u001b[39;00m\u001b[38;5;21;01m.\u001b[39;00m\u001b[38;5;21;01mkeras\u001b[39;00m\u001b[38;5;21;01m.\u001b[39;00m\u001b[38;5;21;01mpreprocessing\u001b[39;00m \u001b[38;5;28;01mimport\u001b[39;00m image\n\u001b[1;32m      3\u001b[0m pointer \u001b[38;5;241m=\u001b[39m \u001b[38;5;241m66\u001b[39m\n\u001b[0;32m----> 4\u001b[0m label \u001b[38;5;241m=\u001b[39m \u001b[43mlabels\u001b[49m[\u001b[38;5;241m0\u001b[39m]  \u001b[38;5;66;03m# select Uninfected or Parasitised\u001b[39;00m\n\u001b[1;32m      6\u001b[0m pil_image \u001b[38;5;241m=\u001b[39m image\u001b[38;5;241m.\u001b[39mload_img(test_path \u001b[38;5;241m+\u001b[39m \u001b[38;5;124m'\u001b[39m\u001b[38;5;124m/\u001b[39m\u001b[38;5;124m'\u001b[39m \u001b[38;5;241m+\u001b[39m label \u001b[38;5;241m+\u001b[39m \u001b[38;5;124m'\u001b[39m\u001b[38;5;124m/\u001b[39m\u001b[38;5;124m'\u001b[39m \u001b[38;5;241m+\u001b[39m os\u001b[38;5;241m.\u001b[39mlistdir(test_path\u001b[38;5;241m+\u001b[39m\u001b[38;5;124m'\u001b[39m\u001b[38;5;124m/\u001b[39m\u001b[38;5;124m'\u001b[39m \u001b[38;5;241m+\u001b[39m label)[pointer],\n\u001b[1;32m      7\u001b[0m                            target_size\u001b[38;5;241m=\u001b[39mimage_shape, color_mode\u001b[38;5;241m=\u001b[39m\u001b[38;5;124m'\u001b[39m\u001b[38;5;124mrgb\u001b[39m\u001b[38;5;124m'\u001b[39m)\n\u001b[1;32m      8\u001b[0m \u001b[38;5;28mprint\u001b[39m(\u001b[38;5;124mf\u001b[39m\u001b[38;5;124m'\u001b[39m\u001b[38;5;124mImage shape: \u001b[39m\u001b[38;5;132;01m{\u001b[39;00mpil_image\u001b[38;5;241m.\u001b[39msize\u001b[38;5;132;01m}\u001b[39;00m\u001b[38;5;124m, Image mode: \u001b[39m\u001b[38;5;132;01m{\u001b[39;00mpil_image\u001b[38;5;241m.\u001b[39mmode\u001b[38;5;132;01m}\u001b[39;00m\u001b[38;5;124m'\u001b[39m)\n",
      "\u001b[0;31mNameError\u001b[0m: name 'labels' is not defined"
     ]
    }
   ],
   "source": [
    "from tensorflow.keras.preprocessing import image\n",
    "\n",
    "pointer = 66\n",
    "label = labels[0]  # select Uninfected or Parasitised\n",
    "\n",
    "pil_image = image.load_img(test_path + '/' + label + '/' + os.listdir(test_path+'/' + label)[pointer],\n",
    "                           target_size=image_shape, color_mode='rgb')\n",
    "print(f'Image shape: {pil_image.size}, Image mode: {pil_image.mode}')\n",
    "pil_image\n"
   ]
  },
  {
   "cell_type": "markdown",
   "metadata": {
    "id": "QweywGMLm_0V"
   },
   "source": [
    "Convert image to array and prepare for prediction"
   ]
  },
  {
   "cell_type": "code",
   "execution_count": 30,
   "metadata": {
    "id": "ZwoIvJWQcitQ",
    "tags": []
   },
   "outputs": [
    {
     "output_type": "error",
     "ename": "NameError",
     "evalue": "name 'pil_image' is not defined",
     "traceback": [
      "\u001b[0;31m---------------------------------------------------------------------------\u001b[0m",
      "\u001b[0;31mNameError\u001b[0m                                 Traceback (most recent call last)",
      "Cell \u001b[0;32mIn[30], line 1\u001b[0m\n\u001b[0;32m----> 1\u001b[0m my_image \u001b[38;5;241m=\u001b[39m image\u001b[38;5;241m.\u001b[39mimg_to_array(\u001b[43mpil_image\u001b[49m)\n\u001b[1;32m      2\u001b[0m my_image \u001b[38;5;241m=\u001b[39m np\u001b[38;5;241m.\u001b[39mexpand_dims(my_image, axis\u001b[38;5;241m=\u001b[39m\u001b[38;5;241m0\u001b[39m)\u001b[38;5;241m/\u001b[39m\u001b[38;5;241m255\u001b[39m\n\u001b[1;32m      3\u001b[0m \u001b[38;5;28mprint\u001b[39m(my_image\u001b[38;5;241m.\u001b[39mshape)\n",
      "\u001b[0;31mNameError\u001b[0m: name 'pil_image' is not defined"
     ]
    }
   ],
   "source": [
    "my_image = image.img_to_array(pil_image)\n",
    "my_image = np.expand_dims(my_image, axis=0)/255\n",
    "print(my_image.shape)"
   ]
  },
  {
   "cell_type": "markdown",
   "metadata": {
    "id": "nCS7g3CenGJE"
   },
   "source": [
    "Predict class probabilities"
   ]
  },
  {
   "cell_type": "code",
   "execution_count": 31,
   "metadata": {
    "id": "qkFoAMtUdEO2",
    "tags": []
   },
   "outputs": [
    {
     "output_type": "error",
     "ename": "NameError",
     "evalue": "name 'model' is not defined",
     "traceback": [
      "\u001b[0;31m---------------------------------------------------------------------------\u001b[0m",
      "\u001b[0;31mNameError\u001b[0m                                 Traceback (most recent call last)",
      "Cell \u001b[0;32mIn[31], line 1\u001b[0m\n\u001b[0;32m----> 1\u001b[0m pred_proba \u001b[38;5;241m=\u001b[39m \u001b[43mmodel\u001b[49m\u001b[38;5;241m.\u001b[39mpredict(my_image)[\u001b[38;5;241m0\u001b[39m, \u001b[38;5;241m0\u001b[39m]\n\u001b[1;32m      3\u001b[0m target_map \u001b[38;5;241m=\u001b[39m {v: k \u001b[38;5;28;01mfor\u001b[39;00m k, v \u001b[38;5;129;01min\u001b[39;00m train_set\u001b[38;5;241m.\u001b[39mclass_indices\u001b[38;5;241m.\u001b[39mitems()}\n\u001b[1;32m      4\u001b[0m pred_class \u001b[38;5;241m=\u001b[39m target_map[pred_proba \u001b[38;5;241m>\u001b[39m \u001b[38;5;241m0.5\u001b[39m]\n",
      "\u001b[0;31mNameError\u001b[0m: name 'model' is not defined"
     ]
    }
   ],
   "source": [
    "pred_proba = model.predict(my_image)[0, 0]\n",
    "\n",
    "target_map = {v: k for k, v in train_set.class_indices.items()}\n",
    "pred_class = target_map[pred_proba > 0.5]\n",
    "\n",
    "if pred_class == target_map[0]:\n",
    "    pred_proba = 1 - pred_proba\n",
    "\n",
    "print(pred_proba)\n",
    "print(pred_class)\n"
   ]
  },
  {
   "cell_type": "markdown",
   "metadata": {
    "id": "61RtitT7v-xv"
   },
   "source": [
    "---"
   ]
  },
  {
   "cell_type": "markdown",
   "metadata": {
    "id": "cZcmA1wG8AdC"
   },
   "source": [
    "# Push files to Repo"
   ]
  },
  {
   "cell_type": "markdown",
   "metadata": {
    "id": "5erRLQ2b3mh_"
   },
   "source": [
    "## Push generated/new files from this Session to your GitHub repo"
   ]
  },
  {
   "cell_type": "markdown",
   "metadata": {
    "id": "qLNJsZ5UeQDG"
   },
   "source": [
    "* .gitignore"
   ]
  },
  {
   "cell_type": "code",
   "execution_count": 32,
   "metadata": {
    "tags": []
   },
   "outputs": [
    {
     "output_type": "stream",
     "name": "stdout",
     "text": "cat: .gitignore: No such file or directory\n"
    }
   ],
   "source": [
    "!cat .gitignore"
   ]
  },
  {
   "cell_type": "markdown",
   "metadata": {
    "id": "qLNJsZ5UeQDG"
   },
   "source": [
    "* Git status"
   ]
  },
  {
   "cell_type": "code",
   "execution_count": 38,
   "metadata": {
    "tags": []
   },
   "outputs": [
    {
     "name": "stdout",
     "output_type": "stream",
     "text": [
      "On branch main\n",
      "Your branch is up to date with 'origin/main'.\n",
      "\n",
      "nothing to commit, working tree clean\n"
     ]
    }
   ],
   "source": [
    "!git status"
   ]
  },
  {
   "cell_type": "markdown",
   "metadata": {
    "id": "qLNJsZ5UeQDG"
   },
   "source": [
    "* Git add"
   ]
  },
  {
   "cell_type": "code",
   "execution_count": 34,
   "metadata": {},
   "outputs": [],
   "source": [
    "!git add ."
   ]
  },
  {
   "cell_type": "markdown",
   "metadata": {
    "id": "G1kUQ0VIoi4c"
   },
   "source": [
    "* Git commit"
   ]
  },
  {
   "cell_type": "code",
   "execution_count": 35,
   "metadata": {
    "tags": [
     "outputPrepend"
    ]
   },
   "outputs": [
    {
     "name": "stdout",
     "output_type": "stream",
     "text": [
      "uts/malaria_dataset/cell_images/validation/Uninfected/C217ThinF_IMG_20151106_141500_cell_30.png\n",
      " create mode 100644 inputs/malaria_dataset/cell_images/validation/Uninfected/C217ThinF_IMG_20151106_141649_cell_161.png\n",
      " create mode 100644 inputs/malaria_dataset/cell_images/validation/Uninfected/C217ThinF_IMG_20151106_141649_cell_63.png\n",
      " create mode 100644 inputs/malaria_dataset/cell_images/validation/Uninfected/C217ThinF_IMG_20151106_142147_cell_137.png\n",
      " create mode 100644 inputs/malaria_dataset/cell_images/validation/Uninfected/C218ThinF_IMG_20151106_143940_cell_147.png\n",
      " create mode 100644 inputs/malaria_dataset/cell_images/validation/Uninfected/C218ThinF_IMG_20151106_143940_cell_17.png\n",
      " create mode 100644 inputs/malaria_dataset/cell_images/validation/Uninfected/C218ThinF_IMG_20151106_143940_cell_23.png\n",
      " create mode 100644 inputs/malaria_dataset/cell_images/validation/Uninfected/C218ThinF_IMG_20151106_144001_cell_223.png\n",
      " create mode 100644 inputs/malaria_dataset/cell_images/validation/Uninfected/C218ThinF_IMG_20151106_144143_cell_197.png\n",
      " create mode 100644 inputs/malaria_dataset/cell_images/validation/Uninfected/C218ThinF_IMG_20151106_144228_cell_114.png\n",
      " create mode 100644 inputs/malaria_dataset/cell_images/validation/Uninfected/C218ThinF_IMG_20151106_144337_cell_77.png\n",
      " create mode 100644 inputs/malaria_dataset/cell_images/validation/Uninfected/C219ThinF_IMG_20151106_145927_cell_158.png\n",
      " create mode 100644 inputs/malaria_dataset/cell_images/validation/Uninfected/C219ThinF_IMG_20151106_145927_cell_159.png\n",
      " create mode 100644 inputs/malaria_dataset/cell_images/validation/Uninfected/C219ThinF_IMG_20151106_145927_cell_186.png\n",
      " create mode 100644 inputs/malaria_dataset/cell_images/validation/Uninfected/C219ThinF_IMG_20151106_145927_cell_216.png\n",
      " create mode 100644 inputs/malaria_dataset/cell_images/validation/Uninfected/C219ThinF_IMG_20151106_150027_cell_178.png\n",
      " create mode 100644 inputs/malaria_dataset/cell_images/validation/Uninfected/C219ThinF_IMG_20151106_150135_cell_98.png\n",
      " create mode 100644 inputs/malaria_dataset/cell_images/validation/Uninfected/C219ThinF_IMG_20151106_150314_cell_195.png\n",
      " create mode 100644 inputs/malaria_dataset/cell_images/validation/Uninfected/C220ThinF_IMG_20151106_153947_cell_115.png\n",
      " create mode 100644 inputs/malaria_dataset/cell_images/validation/Uninfected/C220ThinF_IMG_20151106_154016_cell_206.png\n",
      " create mode 100644 inputs/malaria_dataset/cell_images/validation/Uninfected/C220ThinF_IMG_20151106_154016_cell_64.png\n",
      " create mode 100644 inputs/malaria_dataset/cell_images/validation/Uninfected/C220ThinF_IMG_20151106_154016_cell_69.png\n",
      " create mode 100644 inputs/malaria_dataset/cell_images/validation/Uninfected/C220ThinF_IMG_20151106_154339_cell_88.png\n",
      " create mode 100644 inputs/malaria_dataset/cell_images/validation/Uninfected/C220ThinF_IMG_20151106_154510_cell_16.png\n",
      " create mode 100644 inputs/malaria_dataset/cell_images/validation/Uninfected/C220ThinF_IMG_20151106_154533_cell_83.png\n",
      " create mode 100644 inputs/malaria_dataset/cell_images/validation/Uninfected/C221ThinF_IMG_20151106_155857_cell_69.png\n",
      " create mode 100644 inputs/malaria_dataset/cell_images/validation/Uninfected/C221ThinF_IMG_20151106_160022_cell_164.png\n",
      " create mode 100644 inputs/malaria_dataset/cell_images/validation/Uninfected/C221ThinF_IMG_20151106_160653_cell_109.png\n",
      " create mode 100644 inputs/malaria_dataset/cell_images/validation/Uninfected/C221ThinF_IMG_20151106_160653_cell_75.png\n",
      " create mode 100644 inputs/malaria_dataset/cell_images/validation/Uninfected/C221ThinF_IMG_20151106_160727_cell_32.png\n",
      " create mode 100644 inputs/malaria_dataset/cell_images/validation/Uninfected/C222ThinF_IMG_20151115_150057_cell_111.png\n",
      " create mode 100644 inputs/malaria_dataset/cell_images/validation/Uninfected/C222ThinF_IMG_20151115_150057_cell_4.png\n",
      " create mode 100644 inputs/malaria_dataset/cell_images/validation/Uninfected/C222ThinF_IMG_20151115_151015_cell_11.png\n",
      " create mode 100644 inputs/malaria_dataset/cell_images/validation/Uninfected/C222ThinF_IMG_20151115_151015_cell_180.png\n",
      " create mode 100644 inputs/malaria_dataset/cell_images/validation/Uninfected/C222ThinF_IMG_20151115_151433_cell_135.png\n",
      " create mode 100644 inputs/malaria_dataset/cell_images/validation/Uninfected/C222ThinF_IMG_20151115_151433_cell_7.png\n",
      " create mode 100644 inputs/malaria_dataset/cell_images/validation/Uninfected/C222ThinF_IMG_20151115_151433_cell_77.png\n",
      " create mode 100644 inputs/malaria_dataset/cell_images/validation/Uninfected/C223ThinF_IMG_20151112_103809_cell_101.png\n",
      " create mode 100644 inputs/malaria_dataset/cell_images/validation/Uninfected/C223ThinF_IMG_20151112_103809_cell_222.png\n",
      " create mode 100644 inputs/malaria_dataset/cell_images/validation/Uninfected/C223ThinF_IMG_20151112_104118_cell_116.png\n",
      " create mode 100644 inputs/malaria_dataset/cell_images/validation/Uninfected/C223ThinF_IMG_20151112_104118_cell_2.png\n",
      " create mode 100644 inputs/malaria_dataset/cell_images/validation/Uninfected/C223ThinF_IMG_20151112_104410_cell_127.png\n",
      " create mode 100644 inputs/malaria_dataset/cell_images/validation/Uninfected/C223ThinF_IMG_20151112_104410_cell_156.png\n",
      " create mode 100644 inputs/malaria_dataset/cell_images/validation/Uninfected/C223ThinF_IMG_20151112_104410_cell_187.png\n",
      " create mode 100644 inputs/malaria_dataset/cell_images/validation/Uninfected/C224ThinF_IMG_20151112_111955_cell_218.png\n",
      " create mode 100644 inputs/malaria_dataset/cell_images/validation/Uninfected/C224ThinF_IMG_20151112_111955_cell_23.png\n",
      " create mode 100644 inputs/malaria_dataset/cell_images/validation/Uninfected/C224ThinF_IMG_20151112_112334_cell_108.png\n",
      " create mode 100644 inputs/malaria_dataset/cell_images/validation/Uninfected/C224ThinF_IMG_20151112_112334_cell_113.png\n",
      " create mode 100644 inputs/malaria_dataset/cell_images/validation/Uninfected/C224ThinF_IMG_20151112_112735_cell_214.png\n",
      " create mode 100644 inputs/malaria_dataset/cell_images/validation/Uninfected/C224ThinF_IMG_20151112_112834_cell_87.png\n",
      " create mode 100644 inputs/malaria_dataset/cell_images/validation/Uninfected/C225ThinF_IMG_20151112_113803_cell_77.png\n",
      " create mode 100644 inputs/malaria_dataset/cell_images/validation/Uninfected/C225ThinF_IMG_20151112_113836_cell_223.png\n",
      " create mode 100644 inputs/malaria_dataset/cell_images/validation/Uninfected/C225ThinF_IMG_20151112_113915_cell_252.png\n",
      " create mode 100644 inputs/malaria_dataset/cell_images/validation/Uninfected/C225ThinF_IMG_20151112_113953_cell_192.png\n",
      " create mode 100644 inputs/malaria_dataset/cell_images/validation/Uninfected/C225ThinF_IMG_20151112_113953_cell_201.png\n",
      " create mode 100644 inputs/malaria_dataset/cell_images/validation/Uninfected/C226ThinF_IMG_20151112_131546_cell_151.png\n",
      " create mode 100644 inputs/malaria_dataset/cell_images/validation/Uninfected/C226ThinF_IMG_20151112_131546_cell_234.png\n",
      " create mode 100644 inputs/malaria_dataset/cell_images/validation/Uninfected/C226ThinF_IMG_20151112_131731_cell_164.png\n",
      " create mode 100644 inputs/malaria_dataset/cell_images/validation/Uninfected/C226ThinF_IMG_20151112_131731_cell_89.png\n",
      " create mode 100644 inputs/malaria_dataset/cell_images/validation/Uninfected/C227ThinF_IMG_20151112_135308_cell_12.png\n",
      " create mode 100644 inputs/malaria_dataset/cell_images/validation/Uninfected/C227ThinF_IMG_20151112_135818_cell_43.png\n",
      " create mode 100644 inputs/malaria_dataset/cell_images/validation/Uninfected/C228ThinF_IMG_20151112_142216_cell_248.png\n",
      " create mode 100644 inputs/malaria_dataset/cell_images/validation/Uninfected/C228ThinF_IMG_20151112_142730_cell_128.png\n",
      " create mode 100644 inputs/malaria_dataset/cell_images/validation/Uninfected/C228ThinF_IMG_20151112_142730_cell_173.png\n",
      " create mode 100644 inputs/malaria_dataset/cell_images/validation/Uninfected/C228ThinF_IMG_20151112_142730_cell_7.png\n",
      " create mode 100644 inputs/malaria_dataset/cell_images/validation/Uninfected/C228ThinF_IMG_20151112_142900_cell_30.png\n",
      " create mode 100644 inputs/malaria_dataset/cell_images/validation/Uninfected/C229ThinF_IMG_20151112_144147_cell_211.png\n",
      " create mode 100644 inputs/malaria_dataset/cell_images/validation/Uninfected/C229ThinF_IMG_20151112_144147_cell_89.png\n",
      " create mode 100644 inputs/malaria_dataset/cell_images/validation/Uninfected/C229ThinF_IMG_20151112_144534_cell_21.png\n",
      " create mode 100644 inputs/malaria_dataset/cell_images/validation/Uninfected/C229ThinF_IMG_20151112_144534_cell_27.png\n",
      " create mode 100644 inputs/malaria_dataset/cell_images/validation/Uninfected/C229ThinF_IMG_20151112_144613_cell_112.png\n",
      " create mode 100644 inputs/malaria_dataset/cell_images/validation/Uninfected/C229ThinF_IMG_20151112_144613_cell_56.png\n",
      " create mode 100644 inputs/malaria_dataset/cell_images/validation/Uninfected/C229ThinF_IMG_20151112_144652_cell_83.png\n",
      " create mode 100644 inputs/malaria_dataset/cell_images/validation/Uninfected/C230ThinF_IMG_20151112_150329_cell_138.png\n",
      " create mode 100644 inputs/malaria_dataset/cell_images/validation/Uninfected/C230ThinF_IMG_20151112_150329_cell_162.png\n",
      " create mode 100644 inputs/malaria_dataset/cell_images/validation/Uninfected/C230ThinF_IMG_20151112_150329_cell_31.png\n",
      " create mode 100644 inputs/malaria_dataset/cell_images/validation/Uninfected/C230ThinF_IMG_20151112_150329_cell_32.png\n",
      " create mode 100644 inputs/malaria_dataset/cell_images/validation/Uninfected/C230ThinF_IMG_20151112_150621_cell_142.png\n",
      " create mode 100644 inputs/malaria_dataset/cell_images/validation/Uninfected/C230ThinF_IMG_20151112_150647_cell_1.png\n",
      " create mode 100644 inputs/malaria_dataset/cell_images/validation/Uninfected/C230ThinF_IMG_20151112_150647_cell_158.png\n",
      " create mode 100644 inputs/malaria_dataset/cell_images/validation/Uninfected/C230ThinF_IMG_20151112_150647_cell_56.png\n",
      " create mode 100644 inputs/malaria_dataset/cell_images/validation/Uninfected/C230ThinF_IMG_20151112_150730_cell_24.png\n",
      " create mode 100644 inputs/malaria_dataset/cell_images/validation/Uninfected/C230ThinF_IMG_20151112_150730_cell_78.png\n",
      " create mode 100644 inputs/malaria_dataset/cell_images/validation/Uninfected/C230ThinF_IMG_20151112_150753_cell_143.png\n",
      " create mode 100644 inputs/malaria_dataset/cell_images/validation/Uninfected/C231ThinF_IMG_20151112_153246_cell_134.png\n",
      " create mode 100644 inputs/malaria_dataset/cell_images/validation/Uninfected/C231ThinF_IMG_20151112_153246_cell_163.png\n",
      " create mode 100644 inputs/malaria_dataset/cell_images/validation/Uninfected/C231ThinF_IMG_20151112_153359_cell_104.png\n",
      " create mode 100644 inputs/malaria_dataset/cell_images/validation/Uninfected/C231ThinF_IMG_20151112_153359_cell_123.png\n",
      " create mode 100644 inputs/malaria_dataset/cell_images/validation/Uninfected/C231ThinF_IMG_20151112_153359_cell_149.png\n",
      " create mode 100644 inputs/malaria_dataset/cell_images/validation/Uninfected/C232ThinF_IMG_20151112_154211_cell_126.png\n",
      " create mode 100644 inputs/malaria_dataset/cell_images/validation/Uninfected/C232ThinF_IMG_20151112_154211_cell_150.png\n",
      " create mode 100644 inputs/malaria_dataset/cell_images/validation/Uninfected/C232ThinF_IMG_20151112_154211_cell_71.png\n",
      " create mode 100644 inputs/malaria_dataset/cell_images/validation/Uninfected/C232ThinF_IMG_20151112_154251_cell_171.png\n",
      " create mode 100644 inputs/malaria_dataset/cell_images/validation/Uninfected/C232ThinF_IMG_20151112_154345_cell_276.png\n",
      " create mode 100644 inputs/malaria_dataset/cell_images/validation/Uninfected/C232ThinF_IMG_20151112_154424_cell_14.png\n",
      " create mode 100644 inputs/malaria_dataset/cell_images/validation/Uninfected/C232ThinF_IMG_20151112_154424_cell_4.png\n",
      " create mode 100644 inputs/malaria_dataset/cell_images/validation/Uninfected/C232ThinF_IMG_20151112_154719_cell_233.png\n",
      " create mode 100644 inputs/malaria_dataset/cell_images/validation/Uninfected/C232ThinF_IMG_20151112_154719_cell_260.png\n",
      " create mode 100644 inputs/malaria_dataset/cell_images/validation/Uninfected/C232ThinF_IMG_20151112_154719_cell_71.png\n",
      " create mode 100644 inputs/malaria_dataset/cell_images/validation/Uninfected/C233ThinF_IMG_20151112_160059_cell_231.png\n",
      " create mode 100644 inputs/malaria_dataset/cell_images/validation/Uninfected/C233ThinF_IMG_20151112_160059_cell_27.png\n",
      " create mode 100644 inputs/malaria_dataset/cell_images/validation/Uninfected/C233ThinF_IMG_20151112_160059_cell_34.png\n",
      " create mode 100644 inputs/malaria_dataset/cell_images/validation/Uninfected/C233ThinF_IMG_20151112_160059_cell_44.png\n",
      " create mode 100644 inputs/malaria_dataset/cell_images/validation/Uninfected/C233ThinF_IMG_20151112_160635_cell_119.png\n",
      " create mode 100644 inputs/malaria_dataset/cell_images/validation/Uninfected/C233ThinF_IMG_20151112_160635_cell_3.png\n",
      " create mode 100644 inputs/malaria_dataset/cell_images/validation/Uninfected/C233ThinF_IMG_20151112_161024_cell_79.png\n",
      " create mode 100644 inputs/malaria_dataset/cell_images/validation/Uninfected/C233ThinF_IMG_20151112_161024_cell_8.png\n",
      " create mode 100644 inputs/malaria_dataset/cell_images/validation/Uninfected/C233ThinF_IMG_20151112_161119_cell_224.png\n",
      " create mode 100644 inputs/malaria_dataset/cell_images/validation/Uninfected/C233ThinF_IMG_20151112_161119_cell_244.png\n",
      " create mode 100644 inputs/malaria_dataset/cell_images/validation/Uninfected/C234ThinF_IMG_20151112_162759_cell_125.png\n",
      " create mode 100644 inputs/malaria_dataset/cell_images/validation/Uninfected/C234ThinF_IMG_20151112_162759_cell_236.png\n",
      " create mode 100644 inputs/malaria_dataset/cell_images/validation/Uninfected/C234ThinF_IMG_20151112_162843_cell_213.png\n",
      " create mode 100644 inputs/malaria_dataset/cell_images/validation/Uninfected/C234ThinF_IMG_20151112_162909_cell_50.png\n",
      " create mode 100644 inputs/malaria_dataset/cell_images/validation/Uninfected/C234ThinF_IMG_20151112_162940_cell_177.png\n",
      " create mode 100644 inputs/malaria_dataset/cell_images/validation/Uninfected/C234ThinF_IMG_20151112_162940_cell_186.png\n",
      " create mode 100644 inputs/malaria_dataset/cell_images/validation/Uninfected/C235ThinF_IMG_20151112_164723_cell_124.png\n",
      " create mode 100644 inputs/malaria_dataset/cell_images/validation/Uninfected/C235ThinF_IMG_20151112_164723_cell_286.png\n",
      " create mode 100644 inputs/malaria_dataset/cell_images/validation/Uninfected/C235ThinF_IMG_20151112_165055_cell_237.png\n",
      " create mode 100644 inputs/malaria_dataset/cell_images/validation/Uninfected/C236ThinF_IMG_20151127_102115_cell_179.png\n",
      " create mode 100644 inputs/malaria_dataset/cell_images/validation/Uninfected/C236ThinF_IMG_20151127_102428_cell_141.png\n",
      " create mode 100644 inputs/malaria_dataset/cell_images/validation/Uninfected/C236ThinF_IMG_20151127_102428_cell_91.png\n",
      " create mode 100644 inputs/malaria_dataset/cell_images/validation/Uninfected/C236ThinF_IMG_20151127_102546_cell_160.png\n",
      " create mode 100644 inputs/malaria_dataset/cell_images/validation/Uninfected/C236ThinF_IMG_20151127_102635_cell_127.png\n",
      " create mode 100644 inputs/malaria_dataset/cell_images/validation/Uninfected/C236ThinF_IMG_20151127_102635_cell_196.png\n",
      " create mode 100644 inputs/malaria_dataset/cell_images/validation/Uninfected/C236ThinF_IMG_20151127_102635_cell_253.png\n",
      " create mode 100644 inputs/malaria_dataset/cell_images/validation/Uninfected/C237ThinF_IMG_20151127_104748_cell_110.png\n",
      " create mode 100644 inputs/malaria_dataset/cell_images/validation/Uninfected/C237ThinF_IMG_20151127_104748_cell_168.png\n",
      " create mode 100644 inputs/malaria_dataset/cell_images/validation/Uninfected/C237ThinF_IMG_20151127_104844_cell_138.png\n",
      " create mode 100644 inputs/malaria_dataset/cell_images/validation/Uninfected/C237ThinF_IMG_20151127_105320_cell_165.png\n",
      " create mode 100644 inputs/malaria_dataset/cell_images/validation/Uninfected/C238NThinF_IMG_20151207_114038_cell_170.png\n",
      " create mode 100644 inputs/malaria_dataset/cell_images/validation/Uninfected/C238NThinF_IMG_20151207_114444_cell_127.png\n",
      " create mode 100644 inputs/malaria_dataset/cell_images/validation/Uninfected/C238NThinF_IMG_20151207_114444_cell_133.png\n",
      " create mode 100644 inputs/malaria_dataset/cell_images/validation/Uninfected/C238NThinF_IMG_20151207_114444_cell_32.png\n",
      " create mode 100644 inputs/malaria_dataset/cell_images/validation/Uninfected/C238NThinF_IMG_20151207_114444_cell_65.png\n",
      " create mode 100644 inputs/malaria_dataset/cell_images/validation/Uninfected/C238NThinF_IMG_20151207_114605_cell_123.png\n",
      " create mode 100644 inputs/malaria_dataset/cell_images/validation/Uninfected/C238NThinF_IMG_20151207_114653_cell_120.png\n",
      " create mode 100644 inputs/malaria_dataset/cell_images/validation/Uninfected/C238NThinF_IMG_20151207_114653_cell_133.png\n",
      " create mode 100644 inputs/malaria_dataset/cell_images/validation/Uninfected/C238NThinF_IMG_20151207_114914_cell_190.png\n",
      " create mode 100644 inputs/malaria_dataset/cell_images/validation/Uninfected/C238NThinF_IMG_20151207_114914_cell_40.png\n",
      " create mode 100644 inputs/malaria_dataset/cell_images/validation/Uninfected/C238NThinF_IMG_20151207_114914_cell_42.png\n",
      " create mode 100644 inputs/malaria_dataset/cell_images/validation/Uninfected/C238NThinF_IMG_20151207_114914_cell_91.png\n",
      " create mode 100644 inputs/malaria_dataset/cell_images/validation/Uninfected/C238NThinF_IMG_20151207_115017_cell_148.png\n",
      " create mode 100644 inputs/malaria_dataset/cell_images/validation/Uninfected/C239ThinF_IMG_20151127_113008_cell_216.png\n",
      " create mode 100644 inputs/malaria_dataset/cell_images/validation/Uninfected/C239ThinF_IMG_20151127_113150_cell_225.png\n",
      " create mode 100644 inputs/malaria_dataset/cell_images/validation/Uninfected/C239ThinF_IMG_20151127_113150_cell_3.png\n",
      " create mode 100644 inputs/malaria_dataset/cell_images/validation/Uninfected/C239ThinF_IMG_20151127_113202_cell_26.png\n",
      " create mode 100644 inputs/malaria_dataset/cell_images/validation/Uninfected/C239ThinF_IMG_20151127_113202_cell_291.png\n",
      " create mode 100644 inputs/malaria_dataset/cell_images/validation/Uninfected/C239ThinF_IMG_20151127_113223_cell_245.png\n",
      " create mode 100644 inputs/malaria_dataset/cell_images/validation/Uninfected/C239ThinF_IMG_20151127_113223_cell_7.png\n",
      " create mode 100644 inputs/malaria_dataset/cell_images/validation/Uninfected/C240ThinF_IMG_20151127_115223_cell_167.png\n",
      " create mode 100644 inputs/malaria_dataset/cell_images/validation/Uninfected/C240ThinF_IMG_20151127_115223_cell_194.png\n",
      " create mode 100644 inputs/malaria_dataset/cell_images/validation/Uninfected/C240ThinF_IMG_20151127_115247_cell_160.png\n",
      " create mode 100644 inputs/malaria_dataset/cell_images/validation/Uninfected/C240ThinF_IMG_20151127_115247_cell_205.png\n",
      " create mode 100644 inputs/malaria_dataset/cell_images/validation/Uninfected/C240ThinF_IMG_20151127_115306_cell_6.png\n",
      " create mode 100644 inputs/malaria_dataset/cell_images/validation/Uninfected/C240ThinF_IMG_20151127_115306_cell_92.png\n",
      " create mode 100644 inputs/malaria_dataset/cell_images/validation/Uninfected/C240ThinF_IMG_20151127_115328_cell_166.png\n",
      " create mode 100644 inputs/malaria_dataset/cell_images/validation/Uninfected/C240ThinF_IMG_20151127_115328_cell_192.png\n",
      " create mode 100644 inputs/malaria_dataset/cell_images/validation/Uninfected/C240ThinF_IMG_20151127_115545_cell_129.png\n",
      " create mode 100644 inputs/malaria_dataset/cell_images/validation/Uninfected/C240ThinF_IMG_20151127_115545_cell_63.png\n",
      " create mode 100644 inputs/malaria_dataset/cell_images/validation/Uninfected/C241NThinF_IMG_20151207_124030_cell_129.png\n",
      " create mode 100644 inputs/malaria_dataset/cell_images/validation/Uninfected/C241NThinF_IMG_20151207_124240_cell_125.png\n",
      " create mode 100644 inputs/malaria_dataset/cell_images/validation/Uninfected/C241NThinF_IMG_20151207_124358_cell_119.png\n",
      " create mode 100644 inputs/malaria_dataset/cell_images/validation/Uninfected/C241NThinF_IMG_20151207_124643_cell_125.png\n",
      " create mode 100644 outputs/v1/avg_diff.png\n",
      " create mode 100644 outputs/v1/avg_var_Parasitized.png\n",
      " create mode 100644 outputs/v1/avg_var_Uninfected.png\n",
      " create mode 100644 outputs/v1/class_indices.pkl\n",
      " create mode 100644 outputs/v1/evaluation.pkl\n",
      " create mode 100644 outputs/v1/image_shape.pkl\n",
      " create mode 100644 outputs/v1/labels_distribution.png\n",
      " create mode 100644 outputs/v1/malaria_detector_model.h5\n",
      " create mode 100644 outputs/v1/model_training_acc.png\n",
      " create mode 100644 outputs/v1/model_training_losses.png\n"
     ]
    }
   ],
   "source": [
    "!git commit -am \" Add new plots\""
   ]
  },
  {
   "cell_type": "markdown",
   "metadata": {
    "id": "bXkyUs70oloW"
   },
   "source": [
    "* Git Push"
   ]
  },
  {
   "cell_type": "code",
   "execution_count": 36,
   "metadata": {
    "tags": []
   },
   "outputs": [
    {
     "name": "stdout",
     "output_type": "stream",
     "text": [
      "Enumerating objects: 1157, done.\n",
      "Counting objects: 100% (1157/1157), done.\n",
      "Delta compression using up to 4 threads\n",
      "Compressing objects: 100% (1145/1145), done.\n",
      "Writing objects: 100% (1152/1152), 34.70 MiB | 4.38 MiB/s, done.\n",
      "Total 1152 (delta 2), reused 1130 (delta 0), pack-reused 0\n",
      "remote: Resolving deltas: 100% (2/2), completed with 2 local objects.\u001b[K\n",
      "To https://github.com/Dylangroome/WalkthroughProject01\n",
      "   12581040..833a3e79  main -> main\n"
     ]
    }
   ],
   "source": [
    "!git push"
   ]
  },
  {
   "cell_type": "markdown",
   "metadata": {
    "id": "_tdAGw4Zwssu"
   },
   "source": [
    "---"
   ]
  }
 ],
 "metadata": {
  "accelerator": "GPU",
  "colab": {
   "name": "Data Practitioner Jupyter Notebook.ipynb",
   "provenance": [],
   "toc_visible": true
  },
  "interpreter": {
   "hash": "8b8334dab9339717f727a1deaf837b322d7a41c20d15cc86be99a8e69ceec8ce"
  },
  "kernelspec": {
   "display_name": "Python 3.8.12 64-bit",
   "language": "python",
   "name": "python381264bit79407866a02444a4a13697430c35978d"
  },
  "language_info": {
   "codemirror_mode": {
    "name": "ipython",
    "version": 3
   },
   "file_extension": ".py",
   "mimetype": "text/x-python",
   "name": "python",
   "nbconvert_exporter": "python",
   "pygments_lexer": "ipython3",
   "version": "3.8.12-final"
  }
 },
 "nbformat": 4,
 "nbformat_minor": 2
}